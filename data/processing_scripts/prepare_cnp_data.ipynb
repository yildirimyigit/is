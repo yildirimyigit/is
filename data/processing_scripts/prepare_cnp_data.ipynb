{
 "cells": [
  {
   "cell_type": "code",
   "execution_count": 1,
   "id": "e009a02d",
   "metadata": {},
   "outputs": [],
   "source": [
    "import numpy as np\n",
    "\n",
    "\n",
    "def train_val_split(trajectories, t=0.9):  # t: percentage of the training instances\n",
    "    num_traj = len(trajectories)\n",
    "    \n",
    "    ids = np.random.permutation(num_traj)\n",
    "    ctr = 0\n",
    "    \n",
    "    train, val = [], []\n",
    "    while ctr < num_traj:\n",
    "        if ctr < num_traj * t:\n",
    "            train.append(trajectories[ids[ctr]])\n",
    "        else:\n",
    "            val.append(trajectories[ids[ctr]])\n",
    "        ctr += 1\n",
    "    print(f'Num train: {len(train)} \\nNum val: {len(val)}')\n",
    "    return np.array(train), np.array(val)\n",
    "\n",
    "def process_states(states):\n",
    "    processed_states = []\n",
    "    gx, gy = states[-1, 0:2]\n",
    "    for s in states:\n",
    "        dgx = (gx - s[0]) / 40\n",
    "        dgy = (gy - s[1]) / 40\n",
    "        dpx = s[2] / 30\n",
    "        dpy = s[3] / 30\n",
    "        vx = s[4] / 6\n",
    "        vz = s[5] / 6\n",
    "        processed_states.append([dgx, dgy, dpx, dpy, vx, vz])\n",
    "        \n",
    "    return processed_states"
   ]
  },
  {
   "cell_type": "code",
   "execution_count": 2,
   "id": "2b88efde",
   "metadata": {},
   "outputs": [
    {
     "name": "stdout",
     "output_type": "stream",
     "text": [
      "Num train: 1235 \n",
      "Num val: 65\n"
     ]
    }
   ],
   "source": [
    "import os\n",
    "\n",
    "\n",
    "input_path = '../processed_states/'\n",
    "output_path = '../cnp_data/input/'\n",
    "\n",
    "trajectories = []\n",
    "for filename in os.listdir(input_path):\n",
    "    f = os.path.join(input_path, filename)\n",
    "    \n",
    "    # checking if it is a file\n",
    "    if os.path.isfile(f) and f.endswith('npy'):\n",
    "        states = np.load(f)\n",
    "#         print(states.shape)\n",
    "\n",
    "        processed_states = process_states(states)\n",
    "        trajectories.append(processed_states)\n",
    "        \n",
    "train, val = train_val_split(trajectories, .95)"
   ]
  },
  {
   "cell_type": "code",
   "execution_count": 3,
   "id": "10d4c4bd",
   "metadata": {},
   "outputs": [],
   "source": [
    "x, g, y = train[:, :, 0:2], train[:, :, 2:4], train[:, :, -2:]\n",
    "vx, vg, vy = val[:, :, 0:2], val[:, :, 2:4], val[:, :, -2:]\n",
    "\n",
    "# print(x[1,0:400,:])\n",
    "# print('\\n\\n')\n",
    "# print(g[1,0:400,:])\n",
    "# print('\\n\\n')\n",
    "# print(y[1,0:400,:])\n",
    "\n",
    "np.save(f'{output_path}dx.npy', x)\n",
    "np.save(f'{output_path}dy.npy', y)\n",
    "np.save(f'{output_path}dg.npy', g)\n",
    "np.save(f'{output_path}vdx.npy', vx)\n",
    "np.save(f'{output_path}vdy.npy', vy)\n",
    "np.save(f'{output_path}vdg.npy', vg)"
   ]
  },
  {
   "cell_type": "raw",
   "id": "dcdf3736",
   "metadata": {},
   "source": []
  }
 ],
 "metadata": {
  "kernelspec": {
   "display_name": "Python 3 (ipykernel)",
   "language": "python",
   "name": "python3"
  },
  "language_info": {
   "codemirror_mode": {
    "name": "ipython",
    "version": 3
   },
   "file_extension": ".py",
   "mimetype": "text/x-python",
   "name": "python",
   "nbconvert_exporter": "python",
   "pygments_lexer": "ipython3",
   "version": "3.8.10"
  }
 },
 "nbformat": 4,
 "nbformat_minor": 5
}
