{
 "cells": [
  {
   "cell_type": "code",
   "execution_count": 60,
   "id": "fa36f995",
   "metadata": {},
   "outputs": [],
   "source": [
    "data_path = '/home/yigit/projects/is/data/'\n",
    "folder_path = f'{data_path}data_raw/'\n",
    "\n",
    "time_steps = 400"
   ]
  },
  {
   "cell_type": "code",
   "execution_count": 68,
   "id": "0270a74f",
   "metadata": {},
   "outputs": [],
   "source": [
    "import numpy as np\n",
    "import matplotlib.pyplot as plt\n",
    "\n",
    "\n",
    "def process_file(file_path):\n",
    "    if '7_2_states.npy' in file_path:\n",
    "        temp = np.load(file_path)\n",
    "        np.save(file_path, temp[1:])\n",
    "    states = np.load(file_path)\n",
    "    ego_states = np.zeros_like(states)\n",
    "    \n",
    "    # final pose of the traj is the goal\n",
    "    start_pose, goal_pose = states[0, :2], states[-1, :2]\n",
    "    for i, state in enumerate(states):\n",
    "        ego_states[i, :2] = goal_pose - state[:2]\n",
    "        ego_states[i, 2:] = state[2:]\n",
    "#     ego_states[i, -2:] = [0, 0]  # last vel is 0\n",
    "    return start_pose, goal_pose, ego_states\n",
    "\n",
    "\n",
    "def interpolate(states):\n",
    "    t_orig, d = states.shape\n",
    "    \n",
    "    t = np.linspace(0, 1, time_steps)\n",
    "    tp = np.linspace(0, 1, t_orig)\n",
    "    \n",
    "    cont_states = np.zeros((time_steps, d))\n",
    "    \n",
    "    for i in range(d):\n",
    "        cont_states[:, i] = np.interp(t, tp, states[:, i])\n",
    "        \n",
    "    return cont_states\n",
    "\n",
    "\n",
    "def plot_trajectories(trajectories):\n",
    "    num_trajs = trajectories.shape[0]\n",
    "    for i in range(num_trajs):\n",
    "        plt.plot(trajectories[i, :, 0], trajectories[i, :, 1])\n",
    "    \n",
    "    print(f'Number of Trajectories: {num_trajs}')\n",
    "    plt.show()"
   ]
  },
  {
   "cell_type": "code",
   "execution_count": 69,
   "id": "d827d054",
   "metadata": {},
   "outputs": [
    {
     "name": "stdout",
     "output_type": "stream",
     "text": [
      "9\n"
     ]
    },
    {
     "data": {
      "image/png": "[encoded data removed]",
      "text/plain": [
       "<Figure size 432x288 with 1 Axes>"
      ]
     },
     "metadata": {
      "needs_background": "light"
     },
     "output_type": "display_data"
    }
   ],
   "source": [
    "import os\n",
    "\n",
    "\n",
    "trajectories = []\n",
    "for filename in os.listdir(folder_path):\n",
    "    f = os.path.join(folder_path, filename)\n",
    "    \n",
    "    # checking if it is a file\n",
    "    if os.path.isfile(f) and f.endswith('npy'):\n",
    "        start, goal, ego_states = process_file(f)\n",
    "        cont_states = interpolate(ego_states)\n",
    "#         print(filename)\n",
    "#         print(ego_states)\n",
    "        np.save(f\"{data_path}/processed_states/{filename.strip('_states.npy')}.npy\", cont_states)\n",
    "        trajectories.append(cont_states)\n",
    "\n",
    "trajectories = np.array(trajectories)\n",
    "plot_trajectories(trajectories)"
   ]
  },
  {
   "cell_type": "code",
   "execution_count": null,
   "id": "d4838401",
   "metadata": {},
   "outputs": [],
   "source": []
  }
 ],
 "metadata": {
  "kernelspec": {
   "display_name": "Python 3 (ipykernel)",
   "language": "python",
   "name": "python3"
  },
  "language_info": {
   "codemirror_mode": {
    "name": "ipython",
    "version": 3
   },
   "file_extension": ".py",
   "mimetype": "text/x-python",
   "name": "python",
   "nbconvert_exporter": "python",
   "pygments_lexer": "ipython3",
   "version": "3.8.10"
  }
 },
 "nbformat": 4,
 "nbformat_minor": 5
}
