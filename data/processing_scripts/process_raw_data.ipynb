{
 "cells": [
  {
   "cell_type": "code",
   "execution_count": 3,
   "id": "fa36f995",
   "metadata": {},
   "outputs": [],
   "source": [
    "data_path = '/home/yigit/projects/is/data/'\n",
    "folder_path = f'{data_path}data_raw/'\n",
    "\n",
    "time_steps = 400"
   ]
  },
  {
   "cell_type": "code",
   "execution_count": 6,
   "id": "0270a74f",
   "metadata": {},
   "outputs": [],
   "source": [
    "import numpy as np\n",
    "import matplotlib.pyplot as plt\n",
    "\n",
    "\n",
    "def process_file(file_path):\n",
    "#     if '7_2_states.npy' in file_path:\n",
    "#         temp = np.load(file_path)\n",
    "#         np.save(file_path, temp[1:])\n",
    "    states = np.load(file_path, allow_pickle=True)\n",
    "    ego_states = np.zeros_like(states)\n",
    "    \n",
    "    # final pose of the traj is the goal\n",
    "    start_pose, goal_pose = states[0, :2], states[-1, :2]\n",
    "    for i, state in enumerate(states):\n",
    "        if i==len(states)-2:\n",
    "            break\n",
    "        ego_states[i, :2] = goal_pose - state[:2]  # dg\n",
    "        ego_states[i, 2:4] = state[2:4]  # dp\n",
    "#     ego_states[i, -2:] = [0, 0]  # last vel is 0\n",
    "        next_state = states[i+1]\n",
    "        print(next_state[-2] - state[-2])\n",
    "        break\n",
    "        vx, vy = (next_state[:2] - state[:2]) / (next_state[-2] - state[-2])\n",
    "    return start_pose, goal_pose, ego_states\n",
    "\n",
    "\n",
    "def interpolate(states):\n",
    "    t_orig, d = states.shape\n",
    "    \n",
    "    t = np.linspace(0, 1, time_steps)\n",
    "    tp = np.linspace(0, 1, t_orig)\n",
    "    \n",
    "    cont_states = np.zeros((time_steps, d))\n",
    "    \n",
    "    for i in range(d):\n",
    "        cont_states[:, i] = np.interp(t, tp, states[:, i])\n",
    "        \n",
    "    return cont_states\n",
    "\n",
    "\n",
    "def plot_trajectories(trajectories):\n",
    "    num_trajs = trajectories.shape[0]\n",
    "    for i in range(num_trajs):\n",
    "        plt.plot(trajectories[i, :, 0], trajectories[i, :, 1])\n",
    "    \n",
    "    print(f'Number of Trajectories: {num_trajs}')\n",
    "    plt.show()"
   ]
  },
  {
   "cell_type": "code",
   "execution_count": 7,
   "id": "d827d054",
   "metadata": {},
   "outputs": [
    {
     "name": "stdout",
     "output_type": "stream",
     "text": [
      "100855112\n"
     ]
    },
    {
     "ename": "TypeError",
     "evalue": "Cannot cast array data from dtype('O') to dtype('float64') according to the rule 'safe'",
     "output_type": "error",
     "traceback": [
      "\u001b[0;31m---------------------------------------------------------------------------\u001b[0m",
      "\u001b[0;31mTypeError\u001b[0m                                 Traceback (most recent call last)",
      "Input \u001b[0;32mIn [7]\u001b[0m, in \u001b[0;36m<cell line: 5>\u001b[0;34m()\u001b[0m\n\u001b[1;32m      9\u001b[0m     \u001b[38;5;28;01mif\u001b[39;00m os\u001b[38;5;241m.\u001b[39mpath\u001b[38;5;241m.\u001b[39misfile(f) \u001b[38;5;129;01mand\u001b[39;00m f\u001b[38;5;241m.\u001b[39mendswith(\u001b[38;5;124m'\u001b[39m\u001b[38;5;124mnpy\u001b[39m\u001b[38;5;124m'\u001b[39m):\n\u001b[1;32m     10\u001b[0m         start, goal, ego_states \u001b[38;5;241m=\u001b[39m process_file(f)\n\u001b[0;32m---> 11\u001b[0m         cont_states \u001b[38;5;241m=\u001b[39m \u001b[43minterpolate\u001b[49m\u001b[43m(\u001b[49m\u001b[43mego_states\u001b[49m\u001b[43m)\u001b[49m\n\u001b[1;32m     12\u001b[0m \u001b[38;5;66;03m#         print(filename)\u001b[39;00m\n\u001b[1;32m     13\u001b[0m \u001b[38;5;66;03m#         print(ego_states)\u001b[39;00m\n\u001b[1;32m     14\u001b[0m         np\u001b[38;5;241m.\u001b[39msave(\u001b[38;5;124mf\u001b[39m\u001b[38;5;124m\"\u001b[39m\u001b[38;5;132;01m{\u001b[39;00mdata_path\u001b[38;5;132;01m}\u001b[39;00m\u001b[38;5;124m/processed_states/\u001b[39m\u001b[38;5;132;01m{\u001b[39;00mfilename\u001b[38;5;241m.\u001b[39mstrip(\u001b[38;5;124m'\u001b[39m\u001b[38;5;124m_states.npy\u001b[39m\u001b[38;5;124m'\u001b[39m)\u001b[38;5;132;01m}\u001b[39;00m\u001b[38;5;124m.npy\u001b[39m\u001b[38;5;124m\"\u001b[39m, cont_states)\n",
      "Input \u001b[0;32mIn [6]\u001b[0m, in \u001b[0;36minterpolate\u001b[0;34m(states)\u001b[0m\n\u001b[1;32m     33\u001b[0m cont_states \u001b[38;5;241m=\u001b[39m np\u001b[38;5;241m.\u001b[39mzeros((time_steps, d))\n\u001b[1;32m     35\u001b[0m \u001b[38;5;28;01mfor\u001b[39;00m i \u001b[38;5;129;01min\u001b[39;00m \u001b[38;5;28mrange\u001b[39m(d):\n\u001b[0;32m---> 36\u001b[0m     cont_states[:, i] \u001b[38;5;241m=\u001b[39m \u001b[43mnp\u001b[49m\u001b[38;5;241;43m.\u001b[39;49m\u001b[43minterp\u001b[49m\u001b[43m(\u001b[49m\u001b[43mt\u001b[49m\u001b[43m,\u001b[49m\u001b[43m \u001b[49m\u001b[43mtp\u001b[49m\u001b[43m,\u001b[49m\u001b[43m \u001b[49m\u001b[43mstates\u001b[49m\u001b[43m[\u001b[49m\u001b[43m:\u001b[49m\u001b[43m,\u001b[49m\u001b[43m \u001b[49m\u001b[43mi\u001b[49m\u001b[43m]\u001b[49m\u001b[43m)\u001b[49m\n\u001b[1;32m     38\u001b[0m \u001b[38;5;28;01mreturn\u001b[39;00m cont_states\n",
      "File \u001b[0;32m<__array_function__ internals>:180\u001b[0m, in \u001b[0;36minterp\u001b[0;34m(*args, **kwargs)\u001b[0m\n",
      "File \u001b[0;32m~/.local/lib/python3.8/site-packages/numpy/lib/function_base.py:1570\u001b[0m, in \u001b[0;36minterp\u001b[0;34m(x, xp, fp, left, right, period)\u001b[0m\n\u001b[1;32m   1567\u001b[0m     xp \u001b[38;5;241m=\u001b[39m np\u001b[38;5;241m.\u001b[39mconcatenate((xp[\u001b[38;5;241m-\u001b[39m\u001b[38;5;241m1\u001b[39m:]\u001b[38;5;241m-\u001b[39mperiod, xp, xp[\u001b[38;5;241m0\u001b[39m:\u001b[38;5;241m1\u001b[39m]\u001b[38;5;241m+\u001b[39mperiod))\n\u001b[1;32m   1568\u001b[0m     fp \u001b[38;5;241m=\u001b[39m np\u001b[38;5;241m.\u001b[39mconcatenate((fp[\u001b[38;5;241m-\u001b[39m\u001b[38;5;241m1\u001b[39m:], fp, fp[\u001b[38;5;241m0\u001b[39m:\u001b[38;5;241m1\u001b[39m]))\n\u001b[0;32m-> 1570\u001b[0m \u001b[38;5;28;01mreturn\u001b[39;00m \u001b[43minterp_func\u001b[49m\u001b[43m(\u001b[49m\u001b[43mx\u001b[49m\u001b[43m,\u001b[49m\u001b[43m \u001b[49m\u001b[43mxp\u001b[49m\u001b[43m,\u001b[49m\u001b[43m \u001b[49m\u001b[43mfp\u001b[49m\u001b[43m,\u001b[49m\u001b[43m \u001b[49m\u001b[43mleft\u001b[49m\u001b[43m,\u001b[49m\u001b[43m \u001b[49m\u001b[43mright\u001b[49m\u001b[43m)\u001b[49m\n",
      "\u001b[0;31mTypeError\u001b[0m: Cannot cast array data from dtype('O') to dtype('float64') according to the rule 'safe'"
     ]
    }
   ],
   "source": [
    "import os\n",
    "\n",
    "\n",
    "trajectories = []\n",
    "for filename in os.listdir(folder_path):\n",
    "    f = os.path.join(folder_path, filename)\n",
    "    \n",
    "    # checking if it is a file\n",
    "    if os.path.isfile(f) and f.endswith('npy'):\n",
    "        start, goal, ego_states = process_file(f)\n",
    "        cont_states = interpolate(ego_states)\n",
    "#         print(filename)\n",
    "#         print(ego_states)\n",
    "        np.save(f\"{data_path}/processed_states/{filename.strip('_states.npy')}.npy\", cont_states)\n",
    "        trajectories.append(cont_states)\n",
    "\n",
    "trajectories = np.array(trajectories)\n",
    "plot_trajectories(trajectories)"
   ]
  },
  {
   "cell_type": "code",
   "execution_count": 7,
   "id": "d4838401",
   "metadata": {},
   "outputs": [
    {
     "name": "stdout",
     "output_type": "stream",
     "text": [
      "(400, 6)\n"
     ]
    }
   ],
   "source": [
    "print(trajectories[0].shape)\n",
    "np.savetxt('/home/yigit/Desktop/0.txt', trajectories[0])"
   ]
  },
  {
   "cell_type": "code",
   "execution_count": null,
   "id": "55d3d11f",
   "metadata": {},
   "outputs": [],
   "source": []
  }
 ],
 "metadata": {
  "kernelspec": {
   "display_name": "Python 3 (ipykernel)",
   "language": "python",
   "name": "python3"
  },
  "language_info": {
   "codemirror_mode": {
    "name": "ipython",
    "version": 3
   },
   "file_extension": ".py",
   "mimetype": "text/x-python",
   "name": "python",
   "nbconvert_exporter": "python",
   "pygments_lexer": "ipython3",
   "version": "3.8.10"
  }
 },
 "nbformat": 4,
 "nbformat_minor": 5
}
