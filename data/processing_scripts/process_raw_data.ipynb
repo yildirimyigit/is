{
 "cells": [
  {
   "cell_type": "code",
   "execution_count": 35,
   "id": "9e734670",
   "metadata": {},
   "outputs": [],
   "source": [
    "data_path = '/home/yigit/projects/is/data/'\n",
    "folder_path = f'{data_path}data_raw/'\n",
    "\n",
    "time_steps = 400"
   ]
  },
  {
   "cell_type": "code",
   "execution_count": 44,
   "id": "ebf106e4",
   "metadata": {},
   "outputs": [],
   "source": [
    "import numpy as np\n",
    "import matplotlib.pyplot as plt\n",
    "\n",
    "\n",
    "def process_file(file_path):\n",
    "    states = np.load(file_path)\n",
    "    ego_states = np.zeros_like(states)\n",
    "    \n",
    "    # final pose of the traj is the goal\n",
    "    start_pose, goal_pose = states[0, :2], states[-1, :2]\n",
    "    for i, state in enumerate(states):\n",
    "        ego_states[i, :2] = goal_pose - state[:2]\n",
    "        ego_states[i, 2:] = state[2:]\n",
    "#     ego_states[i, -2:] = [0, 0]  # last vel is 0\n",
    "    return start_pose, goal_pose, ego_states\n",
    "\n",
    "\n",
    "def interpolate(states):\n",
    "    t_orig, d = states.shape\n",
    "    \n",
    "    t = np.linspace(0, 1, time_steps)\n",
    "    tp = np.linspace(0, 1, t_orig)\n",
    "    \n",
    "    cont_states = np.zeros((time_steps, d))\n",
    "    \n",
    "    for i in range(d):\n",
    "        cont_states[:, i] = np.interp(t, tp, states[:, i])\n",
    "        \n",
    "    return cont_states\n",
    "\n",
    "\n",
    "def plot_trajectories(trajectories):\n",
    "    for i in range(trajectories.shape[0]):\n",
    "        plt.plot(trajectories[i, :, 0], trajectories[i, :, 1])\n",
    "        \n",
    "    plt.show()"
   ]
  },
  {
   "cell_type": "code",
   "execution_count": 46,
   "id": "588cfd8d",
   "metadata": {},
   "outputs": [
    {
     "name": "stdout",
     "output_type": "stream",
     "text": [
      "[[-4.23737559e+00  1.13545615e+01  2.21784954e+01  4.84706783e+00\n",
      "   1.97143004e+00  1.31415410e-02]\n",
      " [-4.22592918e+00  1.13285069e+01  2.21940081e+01  4.86233725e+00\n",
      "   1.97287531e+00  1.12035450e-02]\n",
      " [-4.21448277e+00  1.13024524e+01  2.22095209e+01  4.87760666e+00\n",
      "   1.97432059e+00  9.26554907e-03]\n",
      " ...\n",
      " [-2.18645273e-02  5.18446993e-02  7.80605364e+00 -2.47492102e+00\n",
      "   1.97998440e+00 -6.97472024e-03]\n",
      " [-1.09322637e-02  2.59223496e-02  7.74898243e+00 -2.55127253e+00\n",
      "   1.97983617e+00 -7.09615221e-03]\n",
      " [ 0.00000000e+00  0.00000000e+00  7.69191122e+00 -2.62762403e+00\n",
      "   1.97968795e+00 -7.21758419e-03]]\n"
     ]
    },
    {
     "data": {
      "image/png": "[encoded data removed]",
      "text/plain": [
       "<Figure size 432x288 with 1 Axes>"
      ]
     },
     "metadata": {
      "needs_background": "light"
     },
     "output_type": "display_data"
    }
   ],
   "source": [
    "import os\n",
    "\n",
    "\n",
    "trajectories = []\n",
    "for filename in os.listdir(folder_path):\n",
    "    f = os.path.join(folder_path, filename)\n",
    "    \n",
    "    # checking if it is a file\n",
    "    if os.path.isfile(f) and f.endswith('npy'):\n",
    "        start, goal, ego_states = process_file(f)\n",
    "        cont_states = interpolate(ego_states)\n",
    "        \n",
    "        np.save(f\"{data_path}/processed_states/{filename.strip('_states.npy')}.npy\", cont_states)\n",
    "        trajectories.append(cont_states)\n",
    "\n",
    "trajectories = np.array(trajectories)\n",
    "plot_trajectories(trajectories)"
   ]
  },
  {
   "cell_type": "code",
   "execution_count": null,
   "id": "5d392b9f",
   "metadata": {},
   "outputs": [],
   "source": []
  }
 ],
 "metadata": {
  "kernelspec": {
   "display_name": "Python 3 (ipykernel)",
   "language": "python",
   "name": "python3"
  },
  "language_info": {
   "codemirror_mode": {
    "name": "ipython",
    "version": 3
   },
   "file_extension": ".py",
   "mimetype": "text/x-python",
   "name": "python",
   "nbconvert_exporter": "python",
   "pygments_lexer": "ipython3",
   "version": "3.8.10"
  }
 },
 "nbformat": 4,
 "nbformat_minor": 5
}
