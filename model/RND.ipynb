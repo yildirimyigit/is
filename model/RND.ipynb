{
 "cells": [
  {
   "cell_type": "code",
   "execution_count": 1,
   "id": "5c0fb4a2",
   "metadata": {},
   "outputs": [
    {
     "name": "stdout",
     "output_type": "stream",
     "text": [
      "cuda\n"
     ]
    }
   ],
   "source": [
    "# modified from https://github.com/simoninithomas/Deep_reinforcement_learning_Course/blob/master/RND%20Montezuma's%20revenge%20PyTorch/model.py\n",
    "\n",
    "import torch.nn.functional as F\n",
    "import torch.nn as nn\n",
    "import torch\n",
    "import torch.optim as optim\n",
    "import numpy as np\n",
    "import math\n",
    "from torch.nn import init\n",
    "\n",
    "if torch.cuda.is_available():\n",
    "    device = torch.device(\"cuda:0\")\n",
    "else:\n",
    "    device = torch.device(\"cpu\")\n",
    "\n",
    "print(device.type)\n",
    "\n",
    "# ---\n",
    "\n",
    "torch.manual_seed(42)\n",
    "np.random.seed(42)"
   ]
  },
  {
   "cell_type": "code",
   "execution_count": 2,
   "id": "8856725c",
   "metadata": {},
   "outputs": [],
   "source": [
    "class RND(nn.Module):\n",
    "    def __init__(self, input_size, output_size):\n",
    "        super(RND, self).__init__()\n",
    "\n",
    "        self.input_size = input_size\n",
    "        self.output_size = output_size\n",
    "\n",
    "        # Prediction network\n",
    "        self.predictor = nn.Sequential(\n",
    "            nn.Linear(input_size, 128),\n",
    "            nn.ELU(),\n",
    "            nn.Linear(128, 128),\n",
    "            nn.ELU(),\n",
    "            nn.Linear(128, 128),\n",
    "            nn.ELU(),\n",
    "            nn.Linear(128, 1)\n",
    "        )\n",
    "\n",
    "        # Target network\n",
    "        self.target = nn.Sequential(\n",
    "            nn.Linear(input_size, 128),\n",
    "            nn.ELU(),\n",
    "            nn.Linear(128, 128),\n",
    "            nn.ELU(),\n",
    "            nn.Linear(128, 128),\n",
    "            nn.ELU(),\n",
    "            nn.Linear(128, 1)\n",
    "        )\n",
    "\n",
    "        # Initialize the weights and biases\n",
    "        for p in self.modules():\n",
    "            if isinstance(p, nn.Conv2d):\n",
    "                init.orthogonal_(p.weight, np.sqrt(2))\n",
    "                p.bias.data.zero_()\n",
    "\n",
    "            if isinstance(p, nn.Linear):\n",
    "                init.orthogonal_(p.weight, np.sqrt(2))\n",
    "                p.bias.data.zero_()\n",
    "\n",
    "        # Set that target network is not trainable\n",
    "        for param in self.target.parameters():\n",
    "            param.requires_grad = False\n",
    "\n",
    "    def forward(self, next_obs):\n",
    "        target_feature = self.target(next_obs)\n",
    "        predict_feature = self.predictor(next_obs)\n",
    "\n",
    "        return predict_feature, target_feature"
   ]
  },
  {
   "cell_type": "code",
   "execution_count": 3,
   "id": "73ea8ae5",
   "metadata": {},
   "outputs": [],
   "source": [
    "rnd = RND(4, -1)  # output_size is not used here\n",
    "rnd.to(device)\n",
    "optimizer = optim.Adam(list(rnd.predictor.parameters()), lr=1e-4)\n",
    "\n",
    "mse = nn.MSELoss()"
   ]
  },
  {
   "cell_type": "code",
   "execution_count": 18,
   "id": "9a0f5429",
   "metadata": {},
   "outputs": [
    {
     "name": "stdout",
     "output_type": "stream",
     "text": [
      "(494000, 4)\n",
      "Epoch: 0  - 0/494000\r"
     ]
    },
    {
     "ename": "TypeError",
     "evalue": "'NoneType' object is not subscriptable",
     "output_type": "error",
     "traceback": [
      "\u001b[0;31m---------------------------------------------------------------------------\u001b[0m",
      "\u001b[0;31mTypeError\u001b[0m                                 Traceback (most recent call last)",
      "Input \u001b[0;32mIn [18]\u001b[0m, in \u001b[0;36m<cell line: 26>\u001b[0;34m()\u001b[0m\n\u001b[1;32m     35\u001b[0m     optimizer\u001b[38;5;241m.\u001b[39mzero_grad()\n\u001b[1;32m     36\u001b[0m     loss\u001b[38;5;241m.\u001b[39mbackward()\n\u001b[0;32m---> 37\u001b[0m     \u001b[43moptimizer\u001b[49m\u001b[38;5;241;43m.\u001b[39;49m\u001b[43mstep\u001b[49m\u001b[43m(\u001b[49m\u001b[43m)\u001b[49m\u001b[43m[\u001b[49m\u001b[43m:\u001b[49m\u001b[38;5;241;43m100\u001b[39;49m\u001b[43m]\u001b[49m\n\u001b[1;32m     38\u001b[0m losses\u001b[38;5;241m.\u001b[39mappend(running_loss)\n",
      "\u001b[0;31mTypeError\u001b[0m: 'NoneType' object is not subscriptable"
     ]
    }
   ],
   "source": [
    "# load data\n",
    "def load_data():\n",
    "    # load dx.npy + dg.npy, concat\n",
    "    # flatten the first dimension to get [N*400,4] array of states\n",
    "    dx = np.load('/home/yigit/projects/cnmp/data/scand/dx.npy')\n",
    "    dg = np.load('/home/yigit/projects/cnmp/data/scand/dg.npy')\n",
    "    \n",
    "    x = np.concatenate((dx, dg), axis=2)\n",
    "    x = x.reshape(-1, x.shape[-1])\n",
    "    print(x.shape)\n",
    "    \n",
    "    return torch.from_numpy(x).float()   \n",
    "\n",
    "x = load_data().to(device)\n",
    "observation_size = x.shape[0]\n",
    "batch_size = 128\n",
    "\n",
    "# get a batch\n",
    "def get_batch(size=128):\n",
    "    ids = np.random.permutation(observation_size)\n",
    "    return x[ids[:size], :]\n",
    "\n",
    "epochs = 20\n",
    "losses = []\n",
    "\n",
    "for i in range(epochs):\n",
    "    running_loss = 0\n",
    "    for b in range(int(observation_size/batch_size)):  # observation size = #traj * 400 obs/traj\n",
    "        print(f'Epoch: {i}  - {b*batch_size}/{observation_size}', end='\\r')\n",
    "        batch = get_batch(batch_size)\n",
    "        pred_f, target_f = rnd(batch)\n",
    "#         print(pred_f, target_f)\n",
    "        loss = mse(pred_f, target_f.detach())\n",
    "        running_loss += loss.data\n",
    "        optimizer.zero_grad()\n",
    "        loss.backward()\n",
    "        optimizer.step()\n",
    "    losses.append(running_loss)"
   ]
  },
  {
   "cell_type": "code",
   "execution_count": 25,
   "id": "6de8eb25",
   "metadata": {},
   "outputs": [],
   "source": [
    "torch.save(rnd.state_dict(), 'trained/rnd_1000.pth')"
   ]
  },
  {
   "cell_type": "code",
   "execution_count": 29,
   "id": "abb89b18",
   "metadata": {},
   "outputs": [
    {
     "name": "stdout",
     "output_type": "stream",
     "text": [
      "(tensor([0.0978], device='cuda:0', grad_fn=<AddBackward0>), tensor([0.0977], device='cuda:0'))\n"
     ]
    }
   ],
   "source": [
    "print(rnd(torch.Tensor([0.2, 0.1, 0.1, 0.05]).cuda()))\n",
    "\n",
    "# import matplotlib.pyplot as plt\n",
    "\n",
    "# lcpu = []\n",
    "\n",
    "# for l in losses:\n",
    "#     lcpu.append(l.cpu())\n",
    "\n",
    "# plt.plot(range(len(lcpu[3:])), lcpu[3:])\n",
    "# plt.show()"
   ]
  },
  {
   "cell_type": "code",
   "execution_count": null,
   "id": "01ccdd56",
   "metadata": {},
   "outputs": [],
   "source": []
  }
 ],
 "metadata": {
  "kernelspec": {
   "display_name": "Python 3 (ipykernel)",
   "language": "python",
   "name": "python3"
  },
  "language_info": {
   "codemirror_mode": {
    "name": "ipython",
    "version": 3
   },
   "file_extension": ".py",
   "mimetype": "text/x-python",
   "name": "python",
   "nbconvert_exporter": "python",
   "pygments_lexer": "ipython3",
   "version": "3.8.10"
  }
 },
 "nbformat": 4,
 "nbformat_minor": 5
}
